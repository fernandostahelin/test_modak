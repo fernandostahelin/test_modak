{
 "cells": [
  {
   "cell_type": "code",
   "execution_count": 1,
   "metadata": {},
   "outputs": [
    {
     "name": "stdout",
     "output_type": "stream",
     "text": [
      "Requirement already satisfied: duckdb in ./.venv/lib/python3.13/site-packages (1.1.3)\n"
     ]
    }
   ],
   "source": [
    "!pip install duckdb"
   ]
  },
  {
   "cell_type": "code",
   "execution_count": 3,
   "metadata": {},
   "outputs": [],
   "source": [
    "import duckdb"
   ]
  },
  {
   "cell_type": "code",
   "execution_count": 12,
   "metadata": {},
   "outputs": [],
   "source": [
    "allowance_table_path = \"data/allowance_backend_table.csv\"\n",
    "allowance_events = \"data/allowance_events.json\"\n",
    "payment_schedule = \"data/payment_schedule_backend_table.csv\"\n",
    "current_date = '2024-12-03'"
   ]
  },
  {
   "cell_type": "code",
   "execution_count": 13,
   "metadata": {},
   "outputs": [],
   "source": [
    "allowance_table = duckdb.sql(f\"SELECT * FROM '{allowance_table_path}' where status = 'enabled'\")\n",
    "allowance_events = duckdb.sql(f\"SELECT * FROM '{allowance_events}'\")\n",
    "payment_schedule = duckdb.sql(f\"SELECT * FROM '{payment_schedule}'\")"
   ]
  },
  {
   "cell_type": "code",
   "execution_count": 14,
   "metadata": {},
   "outputs": [
    {
     "data": {
      "text/plain": [
       "┌──────────────────────────────────────────────┬───────────────────────────────────────────────────────────────┬───────────────────────────────────────────────────────────────────────────┐\n",
       "│                     user                     │                             event                             │                                 allowance                                 │\n",
       "│              struct(id varchar)              │         struct(\"timestamp\" timestamp, \"name\" varchar)         │ struct(scheduled struct(frequency varchar, \"day\" varchar), amount bigint) │\n",
       "├──────────────────────────────────────────────┼───────────────────────────────────────────────────────────────┼───────────────────────────────────────────────────────────────────────────┤\n",
       "│ {'id': 03c5ffe8-6cd2-434b-a1b2-c4006860d94c} │ {'timestamp': 2024-09-21 01:39:34, 'name': allowance.created} │ {'scheduled': {'frequency': weekly, 'day': sunday}, 'amount': 10}         │\n",
       "│ {'id': 03c5ffe8-6cd2-434b-a1b2-c4006860d94c} │ {'timestamp': 2024-09-22 19:38:22, 'name': allowance.edited}  │ {'scheduled': {'frequency': weekly, 'day': sunday}, 'amount': 10}         │\n",
       "│ {'id': 03c5ffe8-6cd2-434b-a1b2-c4006860d94c} │ {'timestamp': 2024-09-22 19:38:22, 'name': allowance.edited}  │ {'scheduled': {'frequency': weekly, 'day': sunday}, 'amount': 10}         │\n",
       "│ {'id': 05384674-4af8-4f70-8d8f-90e19b0db971} │ {'timestamp': 2024-10-06 06:32:28, 'name': allowance.created} │ {'scheduled': {'frequency': biweekly, 'day': friday}, 'amount': 10}       │\n",
       "│ {'id': 05384674-4af8-4f70-8d8f-90e19b0db971} │ {'timestamp': 2024-10-06 06:32:37, 'name': allowance.edited}  │ {'scheduled': {'frequency': weekly, 'day': friday}, 'amount': 10}         │\n",
       "│ {'id': 05384674-4af8-4f70-8d8f-90e19b0db971} │ {'timestamp': 2024-10-06 06:32:38, 'name': allowance.edited}  │ {'scheduled': {'frequency': weekly, 'day': friday}, 'amount': 10}         │\n",
       "│ {'id': 05384674-4af8-4f70-8d8f-90e19b0db971} │ {'timestamp': 2024-10-06 06:33:50, 'name': allowance.edited}  │ {'scheduled': {'frequency': weekly, 'day': friday}, 'amount': 20}         │\n",
       "│ {'id': 05384674-4af8-4f70-8d8f-90e19b0db971} │ {'timestamp': 2024-10-06 06:33:50, 'name': allowance.edited}  │ {'scheduled': {'frequency': weekly, 'day': friday}, 'amount': 20}         │\n",
       "│ {'id': bb724b84-64fc-45e5-8ece-e74122e6f4e8} │ {'timestamp': 2024-11-02 06:28:39, 'name': allowance.created} │ {'scheduled': {'frequency': biweekly, 'day': thursday}, 'amount': 20}     │\n",
       "│ {'id': bb724b84-64fc-45e5-8ece-e74122e6f4e8} │ {'timestamp': 2024-11-02 06:28:57, 'name': allowance.edited}  │ {'scheduled': {'frequency': biweekly, 'day': saturday}, 'amount': 20}     │\n",
       "│                      ·                       │                              ·                                │                                   ·                                       │\n",
       "│                      ·                       │                              ·                                │                                   ·                                       │\n",
       "│                      ·                       │                              ·                                │                                   ·                                       │\n",
       "│ {'id': 89e8521e-a9ba-4d5c-9c47-602dc0ec5218} │ {'timestamp': 2024-11-23 13:16:49, 'name': allowance.edited}  │ {'scheduled': {'frequency': biweekly, 'day': wednesday}, 'amount': 5}     │\n",
       "│ {'id': 89e8521e-a9ba-4d5c-9c47-602dc0ec5218} │ {'timestamp': 2024-11-23 13:16:50, 'name': allowance.edited}  │ {'scheduled': {'frequency': biweekly, 'day': wednesday}, 'amount': 5}     │\n",
       "│ {'id': 89e8521e-a9ba-4d5c-9c47-602dc0ec5218} │ {'timestamp': 2024-12-01 19:02:53, 'name': allowance.edited}  │ {'scheduled': {'frequency': biweekly, 'day': wednesday}, 'amount': 10}    │\n",
       "│ {'id': a0cd326b-bca3-454b-9ca1-127fe82e4eba} │ {'timestamp': 2024-11-08 06:59:07, 'name': allowance.created} │ {'scheduled': {'frequency': biweekly, 'day': monday}, 'amount': 5}        │\n",
       "│ {'id': a0cd326b-bca3-454b-9ca1-127fe82e4eba} │ {'timestamp': 2024-11-08 06:59:24, 'name': allowance.edited}  │ {'scheduled': {'frequency': biweekly, 'day': thursday}, 'amount': 5}      │\n",
       "│ {'id': a0cd326b-bca3-454b-9ca1-127fe82e4eba} │ {'timestamp': 2024-11-08 06:59:25, 'name': allowance.edited}  │ {'scheduled': {'frequency': biweekly, 'day': thursday}, 'amount': 5}      │\n",
       "│ {'id': a0cd326b-bca3-454b-9ca1-127fe82e4eba} │ {'timestamp': 2024-11-08 07:00:05, 'name': allowance.edited}  │ {'scheduled': {'frequency': daily, 'day': daily}, 'amount': 5}            │\n",
       "│ {'id': a0cd326b-bca3-454b-9ca1-127fe82e4eba} │ {'timestamp': 2024-11-08 07:00:05, 'name': allowance.edited}  │ {'scheduled': {'frequency': daily, 'day': daily}, 'amount': 5}            │\n",
       "│ {'id': a0cd326b-bca3-454b-9ca1-127fe82e4eba} │ {'timestamp': 2024-11-08 07:01:13, 'name': allowance.edited}  │ {'scheduled': {'frequency': biweekly, 'day': saturday}, 'amount': 5}      │\n",
       "│ {'id': a0cd326b-bca3-454b-9ca1-127fe82e4eba} │ {'timestamp': 2024-11-08 07:01:14, 'name': allowance.edited}  │ {'scheduled': {'frequency': biweekly, 'day': saturday}, 'amount': 5}      │\n",
       "├──────────────────────────────────────────────┴───────────────────────────────────────────────────────────────┴───────────────────────────────────────────────────────────────────────────┤\n",
       "│ 6208 rows (20 shown)                                                                                                                                                           3 columns │\n",
       "└──────────────────────────────────────────────────────────────────────────────────────────────────────────────────────────────────────────────────────────────────────────────────────────┘"
      ]
     },
     "execution_count": 14,
     "metadata": {},
     "output_type": "execute_result"
    }
   ],
   "source": [
    "allowance_events"
   ]
  },
  {
   "cell_type": "code",
   "execution_count": 15,
   "metadata": {},
   "outputs": [
    {
     "data": {
      "text/plain": [
       "┌──────────────────────────────────────┬───────────────┬───────────┬───────────────┬────────────────────────────────┬──────────────────┬─────────┐\n",
       "│                 uuid                 │ creation_date │ frequency │      day      │           updated_at           │ next_payment_day │ status  │\n",
       "│               varchar                │     int64     │  varchar  │    varchar    │            varchar             │      int64       │ varchar │\n",
       "├──────────────────────────────────────┼───────────────┼───────────┼───────────────┼────────────────────────────────┼──────────────────┼─────────┤\n",
       "│ 30f4e25e-3e37-462e-8c3c-42f24f54350f │    1724838709 │ monthly   │ fifteenth_day │ 2024-10-15T08:00:41.445627563Z │               15 │ enabled │\n",
       "│ 6da398ad-079d-49b9-8668-6d7ce4d22683 │    1724659829 │ monthly   │ fifteenth_day │ 1724659829                     │               15 │ enabled │\n",
       "│ 2d30fe2d-6c32-4b8a-a19b-906184f64f62 │    1731309159 │ monthly   │ fifteenth_day │ 1731309159                     │               15 │ enabled │\n",
       "│ c30180f3-b35c-470c-b25a-f12ec4ce3340 │    1725414982 │ monthly   │ first_day     │ 2024-10-01T08:00:37.516552581Z │                1 │ enabled │\n",
       "│ 35d3d7c2-2a05-4eae-bdf2-7896e611bbc6 │    1725453772 │ biweekly  │ monday        │ 1725453772                     │               16 │ enabled │\n",
       "│ 9295f1b0-c1cf-4dca-b720-84146395e058 │    1725501541 │ biweekly  │ monday        │ 1725501541                     │               16 │ enabled │\n",
       "│ c398bb9d-8ba5-4f31-9dd2-97d09a289360 │    1725453807 │ biweekly  │ monday        │ 1725453807                     │               16 │ enabled │\n",
       "│ 1958d8e3-cb69-4190-a47e-58008d526fc8 │    1731623845 │ biweekly  │ tuesday       │ 2024-11-26T08:00:26.493628458Z │               10 │ enabled │\n",
       "│ 919436cc-5f02-43d1-9636-d72e1490bb3d │    1731895648 │ biweekly  │ monday        │ 1731895648                     │                2 │ enabled │\n",
       "│ 6b36d785-5958-4469-a438-9b2e09cbf973 │    1732222219 │ weekly    │ thursday      │ 2024-11-28T08:00:26.049462722Z │                5 │ enabled │\n",
       "│                  ·                   │         ·     │   ·       │   ·           │     ·                          │                · │    ·    │\n",
       "│                  ·                   │         ·     │   ·       │   ·           │     ·                          │                · │    ·    │\n",
       "│                  ·                   │         ·     │   ·       │   ·           │     ·                          │                · │    ·    │\n",
       "│ b182f209-6433-47b3-bb0b-e5934b5005a7 │    1727635968 │ weekly    │ friday        │ 1727635968                     │                4 │ enabled │\n",
       "│ 91e54ef7-1c11-4a04-a8ec-e33c0a2f1674 │    1726789362 │ biweekly  │ thursday      │ 2024-12-03T10:00:34.804481415Z │               12 │ enabled │\n",
       "│ 7e3bb803-f698-41b6-a126-b657f138c2dc │    1726980961 │ monthly   │ first_day     │ 1726980961                     │                1 │ enabled │\n",
       "│ cca4875d-e050-42de-a22e-bc6d4c46c428 │    1728466309 │ weekly    │ sunday        │ 2024-12-01T08:01:46.525069902Z │                8 │ enabled │\n",
       "│ 8aa1bbb5-2e65-475c-a699-a81c9e51dfd3 │    1731943819 │ biweekly  │ friday        │ 2024-11-26T08:45:19.8148501Z   │                6 │ enabled │\n",
       "│ b3b99410-40c0-4574-b6cc-b0769c992971 │    1726382886 │ biweekly  │ wednesday     │ 2024-10-25T08:00:46.017618264Z │                6 │ enabled │\n",
       "│ c6dde30f-f54d-400c-ad5c-d87728d81731 │    1730686297 │ biweekly  │ saturday      │ 2024-11-23T20:33:08.809249933Z │                7 │ enabled │\n",
       "│ 2e26d7e7-b65e-4468-8096-5bed0ef99988 │    1729098435 │ biweekly  │ monday        │ 2024-11-28T08:00:30.184784321Z │                9 │ enabled │\n",
       "│ e8f85eea-1974-4000-bde0-2ea7ade70f67 │    1729636767 │ biweekly  │ friday        │ 1729636767                     │                1 │ enabled │\n",
       "│ 3f824fa4-297c-4798-aef1-595fb4f194e9 │    1729642990 │ weekly    │ monday        │ 2024-12-02T08:00:55.085398083Z │                9 │ enabled │\n",
       "├──────────────────────────────────────┴───────────────┴───────────┴───────────────┴────────────────────────────────┴──────────────────┴─────────┤\n",
       "│ 2119 rows (20 shown)                                                                                                                 7 columns │\n",
       "└────────────────────────────────────────────────────────────────────────────────────────────────────────────────────────────────────────────────┘"
      ]
     },
     "execution_count": 15,
     "metadata": {},
     "output_type": "execute_result"
    }
   ],
   "source": [
    "allowance_table"
   ]
  },
  {
   "cell_type": "code",
   "execution_count": 21,
   "metadata": {},
   "outputs": [
    {
     "data": {
      "text/plain": [
       "┌──────────────────────────────────────┬──────────────┐\n",
       "│               user_id                │ payment_date │\n",
       "│               varchar                │    int64     │\n",
       "├──────────────────────────────────────┼──────────────┤\n",
       "│ 061d8039-b332-40ca-b906-3514b06411c2 │           22 │\n",
       "│ 0ca92d01-feed-42e5-b90c-299b615f9d3f │           22 │\n",
       "│ 160bcd2d-3ab0-4a60-9bfa-ccfcc1ee17e4 │           22 │\n",
       "│ 1649fee7-c424-4fb7-ac84-db36e15e042a │           22 │\n",
       "│ 1d647703-874d-4744-b4de-6a5212518aa8 │           22 │\n",
       "│ 2026a912-d221-42bf-9d4b-ebcf1b9ba02c │           22 │\n",
       "│ 298b9863-9dca-4f31-b35c-7e19ce678e5e │           22 │\n",
       "│ 2b0e5667-52e4-40cf-a4dd-c0218d6b7574 │           22 │\n",
       "│ 2bf2d121-9076-450d-a9e3-3fe6c83dba91 │           22 │\n",
       "│ 2db8f773-9e65-4200-bbf2-edc4994435a4 │           22 │\n",
       "│                  ·                   │            · │\n",
       "│                  ·                   │            · │\n",
       "│                  ·                   │            · │\n",
       "│ d3df388a-9e07-41d3-bb4d-57266cb9e18f │           14 │\n",
       "│ d42ad96f-25e0-4322-b37f-0037f513fd40 │           14 │\n",
       "│ d4c40f39-02e2-405d-b14e-d5bb4b0d4288 │           14 │\n",
       "│ d73c9e08-7691-4a36-bd6b-cd355e793bfb │           14 │\n",
       "│ df0afd96-f526-4ec6-a560-9757da046e25 │           14 │\n",
       "│ f184a04d-f1ed-4f70-93a4-19426423a476 │           14 │\n",
       "│ f348b2f8-d9ad-40fe-9e1c-dd7f84f00396 │           14 │\n",
       "│ f9636ff4-a3d9-46f4-8418-bc8b512d6eee │           14 │\n",
       "│ f970b14b-7aa2-43b3-b626-287578e521e6 │           14 │\n",
       "│ f99830fb-9b00-4736-a313-ed99ce35dbff │           14 │\n",
       "├──────────────────────────────────────┴──────────────┤\n",
       "│ 2139 rows (20 shown)                      2 columns │\n",
       "└─────────────────────────────────────────────────────┘"
      ]
     },
     "execution_count": 21,
     "metadata": {},
     "output_type": "execute_result"
    }
   ],
   "source": [
    "payment_schedule"
   ]
  },
  {
   "cell_type": "markdown",
   "metadata": {},
   "source": [
    "# Finding duplicates in the payment schedule table"
   ]
  },
  {
   "cell_type": "code",
   "execution_count": 18,
   "metadata": {},
   "outputs": [
    {
     "data": {
      "text/plain": [
       "┌────────────────┬─────────────────────────┐\n",
       "│ count(user_id) │ count(DISTINCT user_id) │\n",
       "│     int64      │          int64          │\n",
       "├────────────────┼─────────────────────────┤\n",
       "│           2139 │                    2126 │\n",
       "└────────────────┴─────────────────────────┘"
      ]
     },
     "execution_count": 18,
     "metadata": {},
     "output_type": "execute_result"
    }
   ],
   "source": [
    "#3 duplicates within the table\n",
    "duckdb.sql(\"SELECT count(user_id), count(distinct user_id) FROM payment_schedule\")\n"
   ]
  },
  {
   "cell_type": "code",
   "execution_count": 20,
   "metadata": {},
   "outputs": [
    {
     "data": {
      "text/plain": [
       "┌──────────────────────────────────────┬───────┐\n",
       "│               user_id                │  qty  │\n",
       "│               varchar                │ int64 │\n",
       "├──────────────────────────────────────┼───────┤\n",
       "│ 19d933a6-2810-4c08-b3d6-d68ef3c6eac3 │     2 │\n",
       "│ 77cdda96-6e5b-47c1-b486-9f06da2c7372 │     2 │\n",
       "│ 72190913-1208-4333-aaf4-ea7d04dccacd │     2 │\n",
       "│ d299d804-0d05-48c8-ad62-601d54438e34 │     2 │\n",
       "│ abf5cf1e-e81a-4b5f-9d5b-649fa10d8f81 │     2 │\n",
       "│ 42f61042-3d31-42ff-9f1a-508716069464 │     2 │\n",
       "│ 9221dccf-44f3-446d-b3ce-19f9123ea627 │     2 │\n",
       "│ d769685e-9046-4ffe-a51d-829ec7f1d877 │     2 │\n",
       "│ 72e8fe3f-0dd9-44e3-8775-660bacb17310 │     3 │\n",
       "│ 172fe923-347e-4d0e-ba82-1e9969aaadde │     2 │\n",
       "│ eab4d50f-2a17-4f07-b462-53be0e54f6c6 │     2 │\n",
       "│ c091a91b-c6fd-44cb-8ac7-fe3fdbafccea │     2 │\n",
       "├──────────────────────────────────────┴───────┤\n",
       "│ 12 rows                            2 columns │\n",
       "└──────────────────────────────────────────────┘"
      ]
     },
     "execution_count": 20,
     "metadata": {},
     "output_type": "execute_result"
    }
   ],
   "source": [
    "duckdb.sql(\"\"\"select user_id, count(user_id) as qty from payment_schedule group by user_id\n",
    "           having count(user_id) >1 \"\"\")"
   ]
  },
  {
   "cell_type": "code",
   "execution_count": null,
   "metadata": {},
   "outputs": [],
   "source": [
    "duckdb.sql(\"\"\"\n",
    "\n",
    "\"\"\")"
   ]
  }
 ],
 "metadata": {
  "kernelspec": {
   "display_name": ".venv",
   "language": "python",
   "name": "python3"
  },
  "language_info": {
   "codemirror_mode": {
    "name": "ipython",
    "version": 3
   },
   "file_extension": ".py",
   "mimetype": "text/x-python",
   "name": "python",
   "nbconvert_exporter": "python",
   "pygments_lexer": "ipython3",
   "version": "3.13.0"
  }
 },
 "nbformat": 4,
 "nbformat_minor": 2
}
